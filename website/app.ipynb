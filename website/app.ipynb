{
 "cells": [
  {
   "cell_type": "code",
   "execution_count": 26,
   "metadata": {},
   "outputs": [],
   "source": [
    "from flask import Flask,request, render_template, redirect, sessions\n",
    "import pymysql as pm\n",
    "\n",
    "my_db = pm.connect(user = \"root\" , host = \"localhost\" , password = \"22072003Rr\" , database = \"ml\")\n",
    "cur = my_db.cursor()\n",
    "app = Flask(__name__)\n",
    "cur.execute(\"select * from users\")\n",
    "data = cur.fetchall()\n",
    "\n",
    "def model(val):\n",
    "    import pandas as pd\n",
    "    import numpy as np\n",
    "    from sklearn.linear_model import LinearRegression\n",
    "    data = pd.read_csv(\"datasets/Housing.csv\")\n",
    "    data.drop([\"fullbase\",\"garagepl\"],axis=1,inplace=True)\n",
    "    x=data.iloc[:,1:]\n",
    "    y=data.iloc[:,0]\n",
    "    lm = LinearRegression()\n",
    "    lm.fit(x,y)\n",
    "    print(val)\n",
    "    return lm.predict(np.reshape(val,(1,-1)))[0]\n",
    "\n",
    "@app.route(\"/\")\n",
    "def open():\n",
    "    return render_template(\"home.html\")\n",
    "\n",
    "@app.route(\"/main\",methods=[\"POST\"])\n",
    "def error():\n",
    "    username = request.form[\"user\"]\n",
    "    passw = request.form[\"passw\"]\n",
    "    for i in data:\n",
    "        if (i == (username,passw)):\n",
    "            return render_template(\"main.html\")\n",
    "    return redirect(\"/\")\n",
    "\n",
    "@app.route(\"/main/prediction\",methods=[\"POST\"])\n",
    "def pred():\n",
    "    d = request.form\n",
    "    val=[]\n",
    "    for i in d:\n",
    "        if d.get(i)==\"Submit\":\n",
    "            continue\n",
    "        val.append(int(d.get(i)))\n",
    "        print(val)\n",
    "    return render_template(\"final.html\",result = model(val))\n",
    "\n",
    "if __name__ == \"__main__\":\n",
    "    app.run(host=\"localhost\", port=5002)"
   ]
  }
 ],
 "metadata": {
  "kernelspec": {
   "display_name": "base",
   "language": "python",
   "name": "python3"
  },
  "language_info": {
   "codemirror_mode": {
    "name": "ipython",
    "version": 3
   },
   "file_extension": ".py",
   "mimetype": "text/x-python",
   "name": "python",
   "nbconvert_exporter": "python",
   "pygments_lexer": "ipython3",
   "version": "3.10.10 (main, Mar 21 2023, 13:41:05) [Clang 14.0.6 ]"
  },
  "orig_nbformat": 4,
  "vscode": {
   "interpreter": {
    "hash": "6dacdde03db380895e648a1a654de3c4f6ecf238be8cb6b89504b85e6a59c7cc"
   }
  }
 },
 "nbformat": 4,
 "nbformat_minor": 2
}
