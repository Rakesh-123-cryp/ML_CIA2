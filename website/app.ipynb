{
 "cells": [
  {
   "cell_type": "code",
   "execution_count": 4,
   "metadata": {},
   "outputs": [
    {
     "name": "stdout",
     "output_type": "stream",
     "text": [
      " * Serving Flask app '__main__'\n",
      " * Debug mode: off\n"
     ]
    },
    {
     "name": "stderr",
     "output_type": "stream",
     "text": [
      "\u001b[31m\u001b[1mWARNING: This is a development server. Do not use it in a production deployment. Use a production WSGI server instead.\u001b[0m\n",
      " * Running on http://localhost:5002\n",
      "\u001b[33mPress CTRL+C to quit\u001b[0m\n",
      "127.0.0.1 - - [02/Apr/2023 19:40:12] \"GET / HTTP/1.1\" 200 -\n",
      "127.0.0.1 - - [02/Apr/2023 19:40:12] \"\u001b[36mGET /static/custom.css HTTP/1.1\u001b[0m\" 304 -\n",
      "127.0.0.1 - - [02/Apr/2023 19:40:16] \"POST /main HTTP/1.1\" 200 -\n",
      "127.0.0.1 - - [02/Apr/2023 19:40:16] \"\u001b[36mGET /static/custom.css HTTP/1.1\u001b[0m\" 304 -\n",
      "127.0.0.1 - - [02/Apr/2023 19:40:19] \"POST /main HTTP/1.1\" 200 -\n",
      "127.0.0.1 - - [02/Apr/2023 19:40:19] \"\u001b[36mGET /static/custom1.css HTTP/1.1\u001b[0m\" 304 -\n",
      "127.0.0.1 - - [02/Apr/2023 19:40:26] \"GET / HTTP/1.1\" 200 -\n",
      "127.0.0.1 - - [02/Apr/2023 19:40:26] \"\u001b[36mGET /static/custom.css HTTP/1.1\u001b[0m\" 304 -\n",
      "127.0.0.1 - - [02/Apr/2023 19:40:29] \"POST /main HTTP/1.1\" 200 -\n",
      "127.0.0.1 - - [02/Apr/2023 19:40:29] \"\u001b[36mGET /static/custom.css HTTP/1.1\u001b[0m\" 304 -\n",
      "127.0.0.1 - - [02/Apr/2023 19:40:32] \"POST /main HTTP/1.1\" 200 -\n",
      "127.0.0.1 - - [02/Apr/2023 19:40:32] \"\u001b[36mGET /static/custom.css HTTP/1.1\u001b[0m\" 304 -\n"
     ]
    }
   ],
   "source": [
    "from flask import Flask,request, render_template, redirect, session\n",
    "import pymysql as pm\n",
    "\n",
    "my_db = pm.connect(user = \"root\" , host = \"localhost\" , password = \"22072003Rr\" , database = \"ml\")\n",
    "cur = my_db.cursor()\n",
    "app = Flask(__name__)\n",
    "app.secret_key = \"hashim is gay\"\n",
    "cur.execute(\"select * from users\")\n",
    "data = cur.fetchall()\n",
    "\n",
    "def model(val):\n",
    "    import pandas as pd\n",
    "    import numpy as np\n",
    "    from sklearn.linear_model import LinearRegression\n",
    "    data = pd.read_csv(\"datasets/Housing.csv\")\n",
    "    data.drop([\"fullbase\",\"garagepl\"],axis=1,inplace=True)\n",
    "    x=data.iloc[:,1:]\n",
    "    y=data.iloc[:,0]\n",
    "    lm = LinearRegression()\n",
    "    lm.fit(x,y)\n",
    "    print(val)\n",
    "    return lm.predict(np.reshape(val,(1,-1)))[0]\n",
    "\n",
    "@app.route(\"/\")\n",
    "def open():\n",
    "    return render_template(\"home.html\",message = \"\")\n",
    "\n",
    "@app.route(\"/main\",methods=[\"POST\"])\n",
    "def error():\n",
    "    username = request.form[\"user\"]\n",
    "    passw = request.form[\"passw\"]\n",
    "    for i in data:\n",
    "        if (i == (username,passw)):\n",
    "            return render_template(\"main.html\")\n",
    "    return render_template(\"home.html\",message = \"Wrong Username/Password\")\n",
    "\n",
    "@app.route(\"/main/prediction\",methods=[\"POST\"])\n",
    "def pred():\n",
    "    d = request.form\n",
    "    val=[]\n",
    "    for i in d:\n",
    "        if d.get(i)==\"Submit\":\n",
    "            continue\n",
    "        val.append(int(d.get(i)))\n",
    "        print(val)\n",
    "    return render_template(\"final.html\",result = model(val))\n",
    "\n",
    "if __name__ == \"__main__\":\n",
    "    app.run(host=\"localhost\", port=5002)"
   ]
  }
 ],
 "metadata": {
  "kernelspec": {
   "display_name": "base",
   "language": "python",
   "name": "python3"
  },
  "language_info": {
   "codemirror_mode": {
    "name": "ipython",
    "version": 3
   },
   "file_extension": ".py",
   "mimetype": "text/x-python",
   "name": "python",
   "nbconvert_exporter": "python",
   "pygments_lexer": "ipython3",
   "version": "3.10.10"
  },
  "orig_nbformat": 4,
  "vscode": {
   "interpreter": {
    "hash": "6dacdde03db380895e648a1a654de3c4f6ecf238be8cb6b89504b85e6a59c7cc"
   }
  }
 },
 "nbformat": 4,
 "nbformat_minor": 2
}
